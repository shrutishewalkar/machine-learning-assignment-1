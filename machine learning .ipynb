{
 "cells": [
  {
   "cell_type": "markdown",
   "id": "e640b7c1-5163-4bbc-b356-784fd28e4c38",
   "metadata": {},
   "source": [
    "Que1: explain the following with an example:1. artificial intelligence 2. machine learning. 3. deep learning."
   ]
  },
  {
   "cell_type": "markdown",
   "id": "1234c79f-1499-4cdf-abd5-c552f0fb71a2",
   "metadata": {},
   "source": [
    "1. Artificial intelligence:  Artificial intelligence is a method of making a computer, a computer-controlled robot, or a software think intelligently like human mind. AI is accompolished by studing the patterns of the human brain and by analyzing the cognitive process. the outcomes of these studies develops intelligent software and systems.examples of AI: manufacturing robots, self-deiving car, smart assistants, marketing chatbots."
   ]
  },
  {
   "cell_type": "markdown",
   "id": "2fa26bf1-ed8e-4a86-a91e-f9603981265d",
   "metadata": {},
   "source": [
    "2. Machine Learning: machine learning is a modern innovation that has enhanced many industrial and professional processes as well as our daily lives. it's a subset of artificial intelligence which focuses on using statisticsls techniques to build intelligent computer systems to lesrn from available databases.examples: support vector machine, cluster analysis, random forest, automation."
   ]
  },
  {
   "cell_type": "markdown",
   "id": "a7ae6c23-a029-4d45-b9d1-0fd2f90bf793",
   "metadata": {},
   "source": [
    "3. Deep learning: deep learning is a methos in artificial intelligence that teaches computers to process data in a way that is inspired by the human brain. deep learning models can recognize complex patterns in pictures, text, sounds,and other data to produce accurate insights and predictions.example:virtual assistants, translations,chatbots and service bots, image colorization, facial recognition"
   ]
  },
  {
   "cell_type": "markdown",
   "id": "04b1db0f-5bcc-428c-b7c8-74dcff9c612b",
   "metadata": {},
   "source": [
    "Que 2: what is supervised learning? list some example of supervised learning."
   ]
  },
  {
   "cell_type": "markdown",
   "id": "89b585a0-fc8f-4c09-b3fc-8390ebab9dea",
   "metadata": {},
   "source": [
    "Ans: supervised learning is a subcategory of machine learning and artificial intelligence  it is defined by its use of labeled datasets to train algorithms that to classify data or predict outcomes accurately.example: text recognition, spam detection, customer sentiment analysis, object detection, predictive analysis."
   ]
  },
  {
   "cell_type": "markdown",
   "id": "5fc74b33-6352-48f3-a14f-dba421720676",
   "metadata": {},
   "source": [
    "Que3: what is unsupervised learning ? list of some example of unsupervised learning."
   ]
  },
  {
   "cell_type": "markdown",
   "id": "612f78bf-0d0a-46e1-aeb2-56883322a46d",
   "metadata": {},
   "source": [
    "unsupervised learning is when it can provides a set of unlablled data, which it is required to analyze and fing patterns inside. the example are dimension reduction and clustering, socil network analysis,market segmentation,astronomical data analysis."
   ]
  },
  {
   "cell_type": "markdown",
   "id": "9840e421-93a1-4efc-9b11-7fde8dbec4f8",
   "metadata": {},
   "source": [
    "Que4: what is difference between AI, MI, DL, and DS?"
   ]
  },
  {
   "cell_type": "markdown",
   "id": "40ee87ab-cfec-41f1-a34c-64fd21fab07d",
   "metadata": {},
   "source": [
    "Ans: Arificial intelligence enables machines to think by understanding, learning, from the data and taking decisions based on pattern hidden in the data or make inference that would otherwise be very difficult for human to make manually."
   ]
  },
  {
   "cell_type": "markdown",
   "id": "33667f35-7ca2-4449-aa70-a481f31770f0",
   "metadata": {},
   "source": [
    "machine learning is a subset of AI; it provides us statisticall tools/ techniques like supervised, unsupervised, and reinforcement learning to explore and analyze the data."
   ]
  },
  {
   "cell_type": "markdown",
   "id": "447f39b5-9473-4cb1-bbc8-287f865cf8c1",
   "metadata": {},
   "source": [
    "deep learning is futher a subset of ML, and the main idea behing it is ti make machines learn by mimicking the human brain."
   ]
  },
  {
   "cell_type": "markdown",
   "id": "c58fe872-0394-4587-8aee-ca7c870cf096",
   "metadata": {},
   "source": [
    "data science is basically deawing insights from structure and unstructured data ither by using ML or DL or without these technique. we can even use different visualization tools, statistics, and probability to gain these insights."
   ]
  },
  {
   "cell_type": "markdown",
   "id": "aeeaef9a-dd70-486c-8e2a-e8bb0b4434f1",
   "metadata": {},
   "source": [
    "Que5: what are the main difference between supervised , unsupervised, and semi-supervised learning?"
   ]
  },
  {
   "cell_type": "markdown",
   "id": "88d329ac-2482-433f-bec4-a80ed17458b4",
   "metadata": {},
   "source": [
    "Ans:the main difference between these types is the level of availability of ground truth data, which is prior  knowledge of what the output of the model should be for a given input."
   ]
  },
  {
   "cell_type": "markdown",
   "id": "c6ec1976-7b57-4843-9dae-f89bd1894b9a",
   "metadata": {},
   "source": [
    "Que6: what is train , test, and validation split? explain the importance of each terms."
   ]
  },
  {
   "cell_type": "markdown",
   "id": "ff9b4504-4b91-4b2c-a489-eb6af248b766",
   "metadata": {},
   "source": [
    "Ans: training data is the set of the data on which the actual traning takes place. validation split help to improve the model performance by fine-tuning the model after each epoch. the test set informs us about the final accuracy of the madel after completing the traning  phae."
   ]
  },
  {
   "cell_type": "markdown",
   "id": "b4c65614-2ac8-4778-8254-dfcf7ec06160",
   "metadata": {},
   "source": [
    "que7: how can unsupervised learning be used in anomaly detection?"
   ]
  },
  {
   "cell_type": "markdown",
   "id": "ec78b96d-ce16-48ed-8f97-0b69ac456389",
   "metadata": {},
   "source": [
    "Ans: the objective of unsupervised anomaly detection is to detect previously unseen rare objects or events without any prior knowledge about these. the only information availables is that the percentage of anomalies in the dataset is small, usually, less than 1%"
   ]
  },
  {
   "cell_type": "markdown",
   "id": "c652a4bf-324d-44bf-ae74-471ec0ba8c04",
   "metadata": {},
   "source": [
    "Que8: list down some commonly used supervised learning algorithem and unsupervised learning."
   ]
  },
  {
   "cell_type": "code",
   "execution_count": null,
   "id": "fcab8e0f-0239-4913-8f6d-817aa9ff9259",
   "metadata": {},
   "outputs": [],
   "source": [
    "Ans: common classification algorithms are linear classifier, support vector machines, decision trees, k-nearest neighbor , and random forest.and most commonly used unsupervised learning algorithem are k-means clustering "
   ]
  }
 ],
 "metadata": {
  "kernelspec": {
   "display_name": "Python 3 (ipykernel)",
   "language": "python",
   "name": "python3"
  },
  "language_info": {
   "codemirror_mode": {
    "name": "ipython",
    "version": 3
   },
   "file_extension": ".py",
   "mimetype": "text/x-python",
   "name": "python",
   "nbconvert_exporter": "python",
   "pygments_lexer": "ipython3",
   "version": "3.10.8"
  }
 },
 "nbformat": 4,
 "nbformat_minor": 5
}
